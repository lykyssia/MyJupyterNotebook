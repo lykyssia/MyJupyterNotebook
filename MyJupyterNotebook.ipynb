{
 "cells": [
  {
   "cell_type": "markdown",
   "id": "b3077ff4-65b9-4e1e-a7cd-62908f48d864",
   "metadata": {},
   "source": [
    "# My Jupyter Notebook Ligth"
   ]
  },
  {
   "cell_type": "markdown",
   "id": "95d32542-19a4-4e55-80f5-41584cf01d89",
   "metadata": {
    "jp-MarkdownHeadingCollapsed": true
   },
   "source": [
    "**Introduction**\n",
    "\n",
    "This is my fist Jupyter Notebook program"
   ]
  },
  {
   "cell_type": "markdown",
   "id": "67b445d1-a8f5-42a4-94cf-e61f70da911c",
   "metadata": {},
   "source": [
    "**List data science languages:**\n",
    "*  Python\n",
    "*  R\n",
    "*  Java\n",
    "*  Scala\n",
    "*  SQL"
   ]
  },
  {
   "cell_type": "markdown",
   "id": "021c4129-dff4-486d-8830-eeeaafc476e9",
   "metadata": {},
   "source": [
    "**List data science libraries:**\n",
    "* Matlab\n",
    "* TensonFlow\n",
    "* Pandas\n",
    "* Numpy\n",
    "* Ploty\n",
    "* Scipy"
   ]
  },
  {
   "cell_type": "markdown",
   "id": "5d786987-41c9-4d98-be72-51d281588929",
   "metadata": {},
   "source": [
    "|Data Science tools|\n",
    "|--------|\n",
    "|Jupyter Notebook|\n",
    "|Apache Spark|\t\t\n",
    "|BigML|\n",
    "|PyTorch|\n",
    "|Matplotlib|\n",
    "|Julia|"
   ]
  },
  {
   "cell_type": "markdown",
   "id": "12732c38-b711-47da-b075-c069c8c6c444",
   "metadata": {},
   "source": [
    "**Arithmetic expression**\n",
    "\n",
    "* (4+3)*5 \n",
    "* 12-3\n",
    "* (5*1)/2\n"
   ]
  },
  {
   "cell_type": "code",
   "execution_count": 39,
   "id": "33a73b42-9fc2-4904-8d35-b848b1d88da1",
   "metadata": {},
   "outputs": [
    {
     "name": "stdout",
     "output_type": "stream",
     "text": [
      "35\n",
      "5\n",
      "3\n"
     ]
    }
   ],
   "source": [
    "#multiply and add numbers expression\n",
    "x =(4+3)*5 \n",
    "print(x)\n",
    "y=2+3\n",
    "print (y)\n",
    "z=(5*1)+2\n",
    "print(z)"
   ]
  },
  {
   "cell_type": "code",
   "execution_count": 51,
   "id": "ab28a6a5-087c-442e-9c12-f9601cab5520",
   "metadata": {},
   "outputs": [
    {
     "name": "stdout",
     "output_type": "stream",
     "text": [
      "200 minuts coorresponds to  3.3333333333333335 hours\n"
     ]
    }
   ],
   "source": [
    "minuts=200\n",
    "seconds=60\n",
    "\n",
    "hr=minuts/seconds\n",
    "print(minuts ,\"minuts coorresponds to \", hr, \"hours\")"
   ]
  },
  {
   "cell_type": "markdown",
   "id": "9f82f8f6-a4d1-4cfe-8ac0-136d8627e210",
   "metadata": {},
   "source": [
    "**list Objectives**\n",
    "* Test knoledge on data science tools, libriries and linguages\n",
    "* Validade knoledge on Arithmetic expression\n",
    "* Evaluate skils in jupyter notebook (code and markdown)"
   ]
  },
  {
   "cell_type": "markdown",
   "id": "df002dad-e00b-4d98-a781-3bbbab81138a",
   "metadata": {},
   "source": [
    "# Author\n",
    "Lidis Sarea Da Mata"
   ]
  },
  {
   "cell_type": "code",
   "execution_count": null,
   "id": "89a6b926-c4d4-43c3-ab51-113297cf2e83",
   "metadata": {},
   "outputs": [],
   "source": []
  }
 ],
 "metadata": {
  "kernelspec": {
   "display_name": "Python 3 (ipykernel)",
   "language": "python",
   "name": "python3"
  },
  "language_info": {
   "codemirror_mode": {
    "name": "ipython",
    "version": 3
   },
   "file_extension": ".py",
   "mimetype": "text/x-python",
   "name": "python",
   "nbconvert_exporter": "python",
   "pygments_lexer": "ipython3",
   "version": "3.12.4"
  }
 },
 "nbformat": 4,
 "nbformat_minor": 5
}
